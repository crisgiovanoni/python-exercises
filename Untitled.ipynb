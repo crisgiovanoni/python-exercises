{
 "cells": [
  {
   "cell_type": "code",
   "execution_count": 19,
   "metadata": {},
   "outputs": [
    {
     "name": "stdout",
     "output_type": "stream",
     "text": [
      "['4', '5']\n",
      "3\n",
      "3\n",
      "1\n",
      "4\n",
      "1\n",
      "[3, 3, 1, 4, 1]\n"
     ]
    }
   ],
   "source": [
    "from random import randint\n",
    "\n",
    "def roll_dice(ndm):\n",
    "    \"\"\"\n",
    "    >>> roll_dice('4d4')\n",
    "    [1, 3, 2, 2]\n",
    "    >>> roll_dice('2d10')\n",
    "    [8, 3]\n",
    "    \"\"\"\n",
    "    #split the ndn input with d as delimiter\n",
    "    list_split = ndm.split(\"d\")\n",
    "    print(list_split)\n",
    "    dice_count = int(list_split[0])\n",
    "    side = int(list_split[1])\n",
    "    #produce a list with side as the length of the list with each element = randint(1, n1)\n",
    "    random_list = []\n",
    "    while len(random_list) < side:\n",
    "        random_number = randint(1, dice_count)\n",
    "        print(random_number)\n",
    "        random_list.append(random_number)\n",
    "    return random_list\n",
    "\n",
    "print(roll_dice(\"4d5\"))"
   ]
  },
  {
   "cell_type": "code",
   "execution_count": null,
   "metadata": {},
   "outputs": [],
   "source": []
  },
  {
   "cell_type": "code",
   "execution_count": null,
   "metadata": {},
   "outputs": [],
   "source": []
  }
 ],
 "metadata": {
  "kernelspec": {
   "display_name": "Python 3",
   "language": "python",
   "name": "python3"
  },
  "language_info": {
   "codemirror_mode": {
    "name": "ipython",
    "version": 3
   },
   "file_extension": ".py",
   "mimetype": "text/x-python",
   "name": "python",
   "nbconvert_exporter": "python",
   "pygments_lexer": "ipython3",
   "version": "3.7.3"
  }
 },
 "nbformat": 4,
 "nbformat_minor": 2
}
